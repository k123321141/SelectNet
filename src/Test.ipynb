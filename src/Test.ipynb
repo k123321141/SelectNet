{
 "cells": [
  {
   "cell_type": "code",
   "execution_count": 9,
   "metadata": {},
   "outputs": [
    {
     "name": "stdout",
     "output_type": "stream",
     "text": [
      "(150, 4) (150,)\n",
      "['fit_time', 'score_time', 'test_score', 'train_score']\n",
      "[0.95555556 0.95555556 0.95555556 0.96296296 0.96296296 0.97037037\n",
      " 0.97037037 0.95555556 0.95555556 0.95555556] 0.96\n",
      "[1.         1.         1.         0.93333333 0.93333333 0.86666667\n",
      " 0.86666667 1.         1.         1.        ] 0.9600000000000002\n"
     ]
    }
   ],
   "source": [
    "import sklearn\n",
    "import sklearn.linear_model\n",
    "import sklearn.metrics\n",
    "import numpy as np\n",
    "from sklearn.model_selection import KFold\n",
    "from sklearn.datasets import load_iris\n",
    "from sklearn import datasets, linear_model\n",
    "from sklearn.model_selection import cross_validate\n",
    "from sklearn.metrics.scorer import make_scorer\n",
    "from sklearn.metrics import confusion_matrix\n",
    "from sklearn.svm import LinearSVC\n",
    "\n",
    "iris = load_iris()\n",
    "X = iris.data\n",
    "Y = iris.target\n",
    "print X.shape, Y.shape\n",
    "lasso = linear_model.Lasso()\n",
    "model = sklearn.linear_model.LogisticRegression(random_state=0, solver='lbfgs',\n",
    "                         multi_class='multinomial')\n",
    "iid = [3]\n",
    "cv_results = cross_validate(model, X[:,iid], Y, cv=10,\n",
    "                            scoring='accuracy',\n",
    "                            return_train_score=True)\n",
    "print sorted(cv_results.keys())                         \n",
    "print cv_results['train_score'], np.mean(cv_results['train_score']) \n",
    "print cv_results['test_score'], np.mean(cv_results['test_score'])"
   ]
  },
  {
   "cell_type": "code",
   "execution_count": null,
   "metadata": {},
   "outputs": [],
   "source": []
  }
 ],
 "metadata": {
  "kernelspec": {
   "display_name": "Python 2.7.14 (conda)",
   "language": "python",
   "name": "python-conda"
  },
  "language_info": {
   "codemirror_mode": {
    "name": "ipython",
    "version": 2
   },
   "file_extension": ".py",
   "mimetype": "text/x-python",
   "name": "python",
   "nbconvert_exporter": "python",
   "pygments_lexer": "ipython2",
   "version": "2.7.14"
  }
 },
 "nbformat": 4,
 "nbformat_minor": 2
}
